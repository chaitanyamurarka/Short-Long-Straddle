{
 "cells": [
  {
   "cell_type": "code",
   "execution_count": 4,
   "metadata": {},
   "outputs": [
    {
     "name": "stdout",
     "output_type": "stream",
     "text": [
      "Please Login and Access your Request Token for ChaitanyaMurarka https://kite.zerodha.com/connect/login?api_key=32x4jxl51pyspsfn&v=3\n"
     ]
    }
   ],
   "source": [
    "from kiteconnect import KiteConnect\n",
    "import pandas as pd\n",
    "login = pd.read_excel('login.xlsx')\n",
    "for index, row in login.iterrows():\n",
    "    api_key = row['apikey']\n",
    "    api_secret = row['apisecret']\n",
    "    kite = KiteConnect(api_key=api_key)\n",
    "    print('Please Login and Access your Request Token for',row['name'],kite.login_url())\n",
    "    request_token = input('Please Enter the Request Token :')\n",
    "    data = kite.generate_session(request_token,api_secret=api_secret)"
   ]
  },
  {
   "cell_type": "code",
   "execution_count": 2,
   "metadata": {},
   "outputs": [],
   "source": [
    "p = kite.instruments()"
   ]
  },
  {
   "cell_type": "code",
   "execution_count": 11,
   "metadata": {},
   "outputs": [
    {
     "name": "stdout",
     "output_type": "stream",
     "text": [
      "{'instrument_token': 38374146, 'exchange_token': '149899', 'tradingsymbol': 'INDIACEM23AUG277.5PE', 'name': 'INDIACEM', 'last_price': 0.0, 'expiry': datetime.date(2023, 8, 31), 'strike': 277.5, 'tick_size': 0.05, 'lot_size': 2900, 'instrument_type': 'PE', 'segment': 'NFO-OPT', 'exchange': 'NFO'}\n"
     ]
    }
   ],
   "source": [
    "for i in p:\n",
    "    if i['tradingsymbol']=='INDIACEM23AUG277.5PE':\n",
    "        print(i)"
   ]
  },
  {
   "cell_type": "code",
   "execution_count": 6,
   "metadata": {},
   "outputs": [],
   "source": [
    "p = kite.ltp('INDIACEM23AUG277.5PE')"
   ]
  },
  {
   "cell_type": "code",
   "execution_count": 8,
   "metadata": {},
   "outputs": [
    {
     "name": "stdout",
     "output_type": "stream",
     "text": [
      "False\n"
     ]
    }
   ],
   "source": [
    "if p:\n",
    "    print(True)\n",
    "else:\n",
    "    print(False)"
   ]
  },
  {
   "cell_type": "code",
   "execution_count": null,
   "metadata": {},
   "outputs": [],
   "source": []
  }
 ],
 "metadata": {
  "kernelspec": {
   "display_name": "base",
   "language": "python",
   "name": "python3"
  },
  "language_info": {
   "codemirror_mode": {
    "name": "ipython",
    "version": 3
   },
   "file_extension": ".py",
   "mimetype": "text/x-python",
   "name": "python",
   "nbconvert_exporter": "python",
   "pygments_lexer": "ipython3",
   "version": "3.11.3"
  },
  "orig_nbformat": 4
 },
 "nbformat": 4,
 "nbformat_minor": 2
}
