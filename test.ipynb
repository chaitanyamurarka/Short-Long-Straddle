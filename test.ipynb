{
 "cells": [
  {
   "cell_type": "code",
   "execution_count": 4,
   "metadata": {},
   "outputs": [
    {
     "name": "stdout",
     "output_type": "stream",
     "text": [
      "Please Login and Access your Request Token for ChaitanyaMurarka https://kite.zerodha.com/connect/login?api_key=32x4jxl51pyspsfn&v=3\n"
     ]
    }
   ],
   "source": [
    "from kiteconnect import KiteConnect\n",
    "import pandas as pd\n",
    "login = pd.read_excel('login.xlsx')\n",
    "for index, row in login.iterrows():\n",
    "    api_key = row['apikey']\n",
    "    api_secret = row['apisecret']\n",
    "    kite = KiteConnect(api_key=api_key)\n",
    "    print('Please Login and Access your Request Token for',row['name'],kite.login_url())\n",
    "    request_token = input('Please Enter the Request Token :')\n",
    "    data = kite.generate_session(request_token,api_secret=api_secret)"
   ]
  },
  {
   "cell_type": "code",
   "execution_count": 2,
   "metadata": {},
   "outputs": [],
   "source": [
    "p = kite.instruments()"
   ]
  },
  {
   "cell_type": "code",
   "execution_count": 11,
   "metadata": {},
   "outputs": [
    {
     "name": "stdout",
     "output_type": "stream",
     "text": [
      "{'instrument_token': 38374146, 'exchange_token': '149899', 'tradingsymbol': 'INDIACEM23AUG277.5PE', 'name': 'INDIACEM', 'last_price': 0.0, 'expiry': datetime.date(2023, 8, 31), 'strike': 277.5, 'tick_size': 0.05, 'lot_size': 2900, 'instrument_type': 'PE', 'segment': 'NFO-OPT', 'exchange': 'NFO'}\n"
     ]
    }
   ],
   "source": [
    "for i in p:\n",
    "    if i['tradingsymbol']=='INDIACEM23AUG277.5PE':\n",
    "        print(i)"
   ]
  },
  {
   "cell_type": "code",
   "execution_count": 6,
   "metadata": {},
   "outputs": [],
   "source": [
    "p = kite.ltp('INDIACEM23AUG277.5PE')"
   ]
  },
  {
   "cell_type": "code",
   "execution_count": 8,
   "metadata": {},
   "outputs": [
    {
     "name": "stdout",
     "output_type": "stream",
     "text": [
      "False\n"
     ]
    }
   ],
   "source": [
    "if p:\n",
    "    print(True)\n",
    "else:\n",
    "    print(False)"
   ]
  },
  {
   "cell_type": "code",
   "execution_count": 1,
   "metadata": {},
   "outputs": [],
   "source": [
    "from kiteconnect import KiteConnect\n",
    "kite = KiteConnect(api_key=\"32x4jxl51pyspsfn\")"
   ]
  },
  {
   "cell_type": "code",
   "execution_count": 2,
   "metadata": {},
   "outputs": [
    {
     "data": {
      "text/plain": [
       "<kiteconnect.connect.KiteConnect at 0x1e8a1aebcd0>"
      ]
     },
     "execution_count": 2,
     "metadata": {},
     "output_type": "execute_result"
    }
   ],
   "source": [
    "kite"
   ]
  },
  {
   "cell_type": "code",
   "execution_count": 3,
   "metadata": {},
   "outputs": [
    {
     "ename": "InputException",
     "evalue": "Invalid `api_key` or `access_token`.",
     "output_type": "error",
     "traceback": [
      "\u001b[1;31m---------------------------------------------------------------------------\u001b[0m",
      "\u001b[1;31mInputException\u001b[0m                            Traceback (most recent call last)",
      "Cell \u001b[1;32mIn[3], line 1\u001b[0m\n\u001b[1;32m----> 1\u001b[0m kite\u001b[39m.\u001b[39mpositions()\n",
      "File \u001b[1;32mc:\\Users\\murar\\AppData\\Local\\anaconda3\\Lib\\site-packages\\kiteconnect\\connect.py:444\u001b[0m, in \u001b[0;36mKiteConnect.positions\u001b[1;34m(self)\u001b[0m\n\u001b[0;32m    442\u001b[0m \u001b[39mdef\u001b[39;00m \u001b[39mpositions\u001b[39m(\u001b[39mself\u001b[39m):\n\u001b[0;32m    443\u001b[0m \u001b[39m    \u001b[39m\u001b[39m\"\"\"Retrieve the list of positions.\"\"\"\u001b[39;00m\n\u001b[1;32m--> 444\u001b[0m     \u001b[39mreturn\u001b[39;00m \u001b[39mself\u001b[39m\u001b[39m.\u001b[39m_get(\u001b[39m\"\u001b[39m\u001b[39mportfolio.positions\u001b[39m\u001b[39m\"\u001b[39m)\n",
      "File \u001b[1;32mc:\\Users\\murar\\AppData\\Local\\anaconda3\\Lib\\site-packages\\kiteconnect\\connect.py:851\u001b[0m, in \u001b[0;36mKiteConnect._get\u001b[1;34m(self, route, url_args, params, is_json)\u001b[0m\n\u001b[0;32m    849\u001b[0m \u001b[39mdef\u001b[39;00m \u001b[39m_get\u001b[39m(\u001b[39mself\u001b[39m, route, url_args\u001b[39m=\u001b[39m\u001b[39mNone\u001b[39;00m, params\u001b[39m=\u001b[39m\u001b[39mNone\u001b[39;00m, is_json\u001b[39m=\u001b[39m\u001b[39mFalse\u001b[39;00m):\n\u001b[0;32m    850\u001b[0m \u001b[39m    \u001b[39m\u001b[39m\"\"\"Alias for sending a GET request.\"\"\"\u001b[39;00m\n\u001b[1;32m--> 851\u001b[0m     \u001b[39mreturn\u001b[39;00m \u001b[39mself\u001b[39m\u001b[39m.\u001b[39m_request(route, \u001b[39m\"\u001b[39m\u001b[39mGET\u001b[39m\u001b[39m\"\u001b[39m, url_args\u001b[39m=\u001b[39murl_args, params\u001b[39m=\u001b[39mparams, is_json\u001b[39m=\u001b[39mis_json)\n",
      "File \u001b[1;32mc:\\Users\\murar\\AppData\\Local\\anaconda3\\Lib\\site-packages\\kiteconnect\\connect.py:927\u001b[0m, in \u001b[0;36mKiteConnect._request\u001b[1;34m(self, route, method, url_args, params, is_json, query_params)\u001b[0m\n\u001b[0;32m    925\u001b[0m         \u001b[39m# native Kite errors\u001b[39;00m\n\u001b[0;32m    926\u001b[0m         exp \u001b[39m=\u001b[39m \u001b[39mgetattr\u001b[39m(ex, data\u001b[39m.\u001b[39mget(\u001b[39m\"\u001b[39m\u001b[39merror_type\u001b[39m\u001b[39m\"\u001b[39m), ex\u001b[39m.\u001b[39mGeneralException)\n\u001b[1;32m--> 927\u001b[0m         \u001b[39mraise\u001b[39;00m exp(data[\u001b[39m\"\u001b[39m\u001b[39mmessage\u001b[39m\u001b[39m\"\u001b[39m], code\u001b[39m=\u001b[39mr\u001b[39m.\u001b[39mstatus_code)\n\u001b[0;32m    929\u001b[0m     \u001b[39mreturn\u001b[39;00m data[\u001b[39m\"\u001b[39m\u001b[39mdata\u001b[39m\u001b[39m\"\u001b[39m]\n\u001b[0;32m    930\u001b[0m \u001b[39melif\u001b[39;00m \u001b[39m\"\u001b[39m\u001b[39mcsv\u001b[39m\u001b[39m\"\u001b[39m \u001b[39min\u001b[39;00m r\u001b[39m.\u001b[39mheaders[\u001b[39m\"\u001b[39m\u001b[39mcontent-type\u001b[39m\u001b[39m\"\u001b[39m]:\n",
      "\u001b[1;31mInputException\u001b[0m: Invalid `api_key` or `access_token`."
     ]
    }
   ],
   "source": [
    "kite.positions()"
   ]
  },
  {
   "cell_type": "code",
   "execution_count": null,
   "metadata": {},
   "outputs": [],
   "source": []
  }
 ],
 "metadata": {
  "kernelspec": {
   "display_name": "base",
   "language": "python",
   "name": "python3"
  },
  "language_info": {
   "codemirror_mode": {
    "name": "ipython",
    "version": 3
   },
   "file_extension": ".py",
   "mimetype": "text/x-python",
   "name": "python",
   "nbconvert_exporter": "python",
   "pygments_lexer": "ipython3",
   "version": "3.11.3"
  },
  "orig_nbformat": 4
 },
 "nbformat": 4,
 "nbformat_minor": 2
}
