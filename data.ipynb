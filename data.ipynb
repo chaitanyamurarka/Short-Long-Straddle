{
 "cells": [
  {
   "cell_type": "code",
   "execution_count": 1,
   "metadata": {},
   "outputs": [],
   "source": [
    "from kiteconnect import KiteConnect\n",
    "from datetime import datetime\n",
    "import sqlite3\n",
    "import time\n",
    "from defs import net_quant_zero,get_symbol_lotsize,place_order,get_expiry_date_and_strike_from_instrument_token,get_name_from_instrument_token,get_instru_tradesymbol_pe_from_ce,cal_dates,short_straddle\n",
    "import pandas as pd\n",
    "login = pd.read_excel('login.xlsx')"
   ]
  },
  {
   "cell_type": "code",
   "execution_count": 7,
   "metadata": {},
   "outputs": [
    {
     "name": "stdout",
     "output_type": "stream",
     "text": [
      "Database created and Successfully Connected to SQLite\n",
      "SQLite Database Version is:  [('3.41.2',)]\n",
      "The SQLite connection is closed\n"
     ]
    }
   ],
   "source": [
    "# Checking connection\n",
    "try:\n",
    "    sqliteConnection = sqlite3.connect('SQLite_Python.db')\n",
    "    cursor = sqliteConnection.cursor()\n",
    "    print(\"Database created and Successfully Connected to SQLite\")\n",
    "\n",
    "    sqlite_select_Query = \"select sqlite_version();\"\n",
    "    cursor.execute(sqlite_select_Query)\n",
    "    record = cursor.fetchall()\n",
    "    print(\"SQLite Database Version is: \", record)\n",
    "    cursor.close()\n",
    "\n",
    "except sqlite3.Error as error:\n",
    "    print(\"Error while connecting to sqlite\", error)\n",
    "finally:\n",
    "    if sqliteConnection:\n",
    "        sqliteConnection.close()\n",
    "        print(\"The SQLite connection is closed\")"
   ]
  },
  {
   "cell_type": "code",
   "execution_count": 8,
   "metadata": {},
   "outputs": [
    {
     "name": "stdout",
     "output_type": "stream",
     "text": [
      "Database created and Successfully Connected to SQLite\n",
      "Table 'portfolio' created successfully\n",
      "The SQLite connection is closed\n"
     ]
    }
   ],
   "source": [
    "# Creating table\n",
    "\n",
    "try:\n",
    "    # Connect to the SQLite database or create it if not exists\n",
    "    sqliteConnection = sqlite3.connect('SQLite_Python.db')\n",
    "\n",
    "    # Create a cursor to interact with the database\n",
    "    cursor = sqliteConnection.cursor()\n",
    "    print(\"Database created and Successfully Connected to SQLite\")\n",
    "\n",
    "    # 1. Create a table named 'portfolio' with columns: name, lot_size, atm, timestamp\n",
    "    create_table_query = '''\n",
    "        CREATE TABLE IF NOT EXISTS portfolio (\n",
    "            tradingsymbol TEXT,\n",
    "            quantity INTEGER,\n",
    "            instrument_token TEXT,\n",
    "            sell_price INTEGER,\n",
    "            timestamp DATETIME\n",
    "        );\n",
    "    '''\n",
    "    cursor.execute(create_table_query)\n",
    "    print(\"Table 'portfolio' created successfully\")\n",
    "    # Close the cursor\n",
    "    cursor.close()\n",
    "except sqlite3.Error as error:\n",
    "    print(\"Error while working with SQLite:\", error)\n",
    "finally:\n",
    "    # Close the database connection if it's open\n",
    "    if sqliteConnection:\n",
    "        sqliteConnection.close()\n",
    "        print(\"The SQLite connection is closed\")"
   ]
  },
  {
   "cell_type": "code",
   "execution_count": null,
   "metadata": {},
   "outputs": [],
   "source": [
    "print('Starting Short Straddle Bot')\n",
    "for index, row in login.iterrows():\n",
    "    api_key = row['apikey']\n",
    "    api_secret = row['apisecret']\n",
    "    symbols = eval(row['Stock'])\n",
    "    kite = KiteConnect(api_key=api_key)\n",
    "    print(f'Please Login and Access your Request Token for {row['name']}',kite.login_url())\n",
    "    request_token = input('Please Enter the Request Token :')\n",
    "    data = kite.generate_session(request_token,api_secret=api_secret)\n",
    "    access_token = data[\"access_token\"]\n",
    "    secrets = {\n",
    "        'api_key': api_key,\n",
    "        'api_secret': api_secret,\n",
    "        'access_token': access_token\n",
    "    }\n",
    "\n",
    "    instruments = kite.instruments()\n",
    "\n",
    "    while True:\n",
    "        if datetime.now().time() != datetime.strptime('05:30', '%H:%M').time():\n",
    "            existing_positions = kite.positions()['net']\n",
    "\n",
    "            # Create and start a process for each symbol\n",
    "            for key,val in symbols.items():\n",
    "                short_straddle(key[4:],val,kite,instruments,existing_positions)\n",
    "            \n",
    "            time.sleep(5)\n",
    "        else:\n",
    "            print('! Session Ended Pls Restart')"
   ]
  }
 ],
 "metadata": {
  "kernelspec": {
   "display_name": "Python 3",
   "language": "python",
   "name": "python3"
  },
  "language_info": {
   "codemirror_mode": {
    "name": "ipython",
    "version": 3
   },
   "file_extension": ".py",
   "mimetype": "text/x-python",
   "name": "python",
   "nbconvert_exporter": "python",
   "pygments_lexer": "ipython3",
   "version": "3.11.3"
  },
  "orig_nbformat": 4
 },
 "nbformat": 4,
 "nbformat_minor": 2
}
