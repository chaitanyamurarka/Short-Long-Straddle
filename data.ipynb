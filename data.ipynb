{
 "cells": [
  {
   "cell_type": "code",
   "execution_count": 2,
   "metadata": {},
   "outputs": [],
   "source": [
    "from kiteconnect import KiteConnect\n",
    "from datetime import datetime\n",
    "import sqlite3\n",
    "import time\n",
    "from defs import net_quant_zero,get_symbol_lotsize,place_order,get_expiry_date_and_strike_from_instrument_token,get_name_from_instrument_token,get_instru_tradesymbol_pe_from_ce,cal_dates,short_straddle\n",
    "import pandas as pd\n",
    "login = pd.read_excel('login.xlsx')"
   ]
  },
  {
   "cell_type": "code",
   "execution_count": 3,
   "metadata": {},
   "outputs": [],
   "source": [
    "# Checking connection\n",
    "try:\n",
    "    sqliteConnection = sqlite3.connect('SQLite_Python.db')\n",
    "    cursor = sqliteConnection.cursor()\n",
    "    # print(\"Database created and Successfully Connected to SQLite\")\n",
    "\n",
    "    sqlite_select_Query = \"select sqlite_version();\"\n",
    "    cursor.execute(sqlite_select_Query)\n",
    "    record = cursor.fetchall()\n",
    "    # print(\"SQLite Database Version is: \", record)\n",
    "    cursor.close()\n",
    "\n",
    "except sqlite3.Error as error:\n",
    "    print(\"Error while connecting to sqlite\", error)\n",
    "finally:\n",
    "    if sqliteConnection:\n",
    "        sqliteConnection.close()\n",
    "        # print(\"The SQLite connection is closed\")"
   ]
  },
  {
   "cell_type": "code",
   "execution_count": 4,
   "metadata": {},
   "outputs": [],
   "source": [
    "# Creating table\n",
    "\n",
    "try:\n",
    "    # Connect to the SQLite database or create it if not exists\n",
    "    sqliteConnection = sqlite3.connect('SQLite_Python.db')\n",
    "\n",
    "    # Create a cursor to interact with the database\n",
    "    cursor = sqliteConnection.cursor()\n",
    "    # print(\"Database created and Successfully Connected to SQLite\")\n",
    "\n",
    "    # 1. Create a table named 'portfolio' with columns: name, lot_size, atm, timestamp\n",
    "    create_table_query = '''\n",
    "        CREATE TABLE IF NOT EXISTS portfolio (\n",
    "            tradingsymbol TEXT,\n",
    "            quantity INTEGER,\n",
    "            instrument_token TEXT,\n",
    "            sell_price INTEGER,\n",
    "            timestamp DATETIME\n",
    "        );\n",
    "    '''\n",
    "    cursor.execute(create_table_query)\n",
    "    # print(\"Table 'portfolio' created successfully\")\n",
    "    # Close the cursor\n",
    "    cursor.close()\n",
    "except sqlite3.Error as error:\n",
    "    print(\"Error while working with SQLite:\", error)\n",
    "finally:\n",
    "    # Close the database connection if it's open\n",
    "    if sqliteConnection:\n",
    "        sqliteConnection.close()\n",
    "        # print(\"The SQLite connection is closed\")"
   ]
  },
  {
   "cell_type": "code",
   "execution_count": 6,
   "metadata": {},
   "outputs": [
    {
     "name": "stdout",
     "output_type": "stream",
     "text": [
      "Starting Short Straddle Bot\n",
      "Please Login and Access your Request Token for  {'ChaitanyaMurarka'} https://kite.zerodha.com/connect/login?api_key=32x4jxl51pyspsfn&v=3\n"
     ]
    },
    {
     "ename": "InputException",
     "evalue": "`request_token` should be minimum 10 characters in length.",
     "output_type": "error",
     "traceback": [
      "\u001b[1;31m---------------------------------------------------------------------------\u001b[0m",
      "\u001b[1;31mInputException\u001b[0m                            Traceback (most recent call last)",
      "Cell \u001b[1;32mIn[6], line 9\u001b[0m\n\u001b[0;32m      7\u001b[0m \u001b[39mprint\u001b[39m(\u001b[39m'\u001b[39m\u001b[39mPlease Login and Access your Request Token for \u001b[39m\u001b[39m'\u001b[39m,{row[\u001b[39m'\u001b[39m\u001b[39mname\u001b[39m\u001b[39m'\u001b[39m]},kite\u001b[39m.\u001b[39mlogin_url())\n\u001b[0;32m      8\u001b[0m request_token \u001b[39m=\u001b[39m \u001b[39minput\u001b[39m(\u001b[39m'\u001b[39m\u001b[39mPlease Enter the Request Token :\u001b[39m\u001b[39m'\u001b[39m)\n\u001b[1;32m----> 9\u001b[0m data \u001b[39m=\u001b[39m kite\u001b[39m.\u001b[39mgenerate_session(request_token,api_secret\u001b[39m=\u001b[39m\u001b[39m'\u001b[39m\u001b[39m'\u001b[39m)\n\u001b[0;32m     10\u001b[0m \u001b[39mprint\u001b[39m(data)\n\u001b[0;32m     11\u001b[0m access_token \u001b[39m=\u001b[39m data[\u001b[39m\"\u001b[39m\u001b[39maccess_token\u001b[39m\u001b[39m\"\u001b[39m]\n",
      "File \u001b[1;32mc:\\Users\\murar\\AppData\\Local\\anaconda3\\Lib\\site-packages\\kiteconnect\\connect.py:262\u001b[0m, in \u001b[0;36mKiteConnect.generate_session\u001b[1;34m(self, request_token, api_secret)\u001b[0m\n\u001b[0;32m    259\u001b[0m h \u001b[39m=\u001b[39m hashlib\u001b[39m.\u001b[39msha256(\u001b[39mself\u001b[39m\u001b[39m.\u001b[39mapi_key\u001b[39m.\u001b[39mencode(\u001b[39m\"\u001b[39m\u001b[39mutf-8\u001b[39m\u001b[39m\"\u001b[39m) \u001b[39m+\u001b[39m request_token\u001b[39m.\u001b[39mencode(\u001b[39m\"\u001b[39m\u001b[39mutf-8\u001b[39m\u001b[39m\"\u001b[39m) \u001b[39m+\u001b[39m api_secret\u001b[39m.\u001b[39mencode(\u001b[39m\"\u001b[39m\u001b[39mutf-8\u001b[39m\u001b[39m\"\u001b[39m))\n\u001b[0;32m    260\u001b[0m checksum \u001b[39m=\u001b[39m h\u001b[39m.\u001b[39mhexdigest()\n\u001b[1;32m--> 262\u001b[0m resp \u001b[39m=\u001b[39m \u001b[39mself\u001b[39m\u001b[39m.\u001b[39m_post(\u001b[39m\"\u001b[39m\u001b[39mapi.token\u001b[39m\u001b[39m\"\u001b[39m, params\u001b[39m=\u001b[39m{\n\u001b[0;32m    263\u001b[0m     \u001b[39m\"\u001b[39m\u001b[39mapi_key\u001b[39m\u001b[39m\"\u001b[39m: \u001b[39mself\u001b[39m\u001b[39m.\u001b[39mapi_key,\n\u001b[0;32m    264\u001b[0m     \u001b[39m\"\u001b[39m\u001b[39mrequest_token\u001b[39m\u001b[39m\"\u001b[39m: request_token,\n\u001b[0;32m    265\u001b[0m     \u001b[39m\"\u001b[39m\u001b[39mchecksum\u001b[39m\u001b[39m\"\u001b[39m: checksum\n\u001b[0;32m    266\u001b[0m })\n\u001b[0;32m    268\u001b[0m \u001b[39mif\u001b[39;00m \u001b[39m\"\u001b[39m\u001b[39maccess_token\u001b[39m\u001b[39m\"\u001b[39m \u001b[39min\u001b[39;00m resp:\n\u001b[0;32m    269\u001b[0m     \u001b[39mself\u001b[39m\u001b[39m.\u001b[39mset_access_token(resp[\u001b[39m\"\u001b[39m\u001b[39maccess_token\u001b[39m\u001b[39m\"\u001b[39m])\n",
      "File \u001b[1;32mc:\\Users\\murar\\AppData\\Local\\anaconda3\\Lib\\site-packages\\kiteconnect\\connect.py:855\u001b[0m, in \u001b[0;36mKiteConnect._post\u001b[1;34m(self, route, url_args, params, is_json, query_params)\u001b[0m\n\u001b[0;32m    853\u001b[0m \u001b[39mdef\u001b[39;00m \u001b[39m_post\u001b[39m(\u001b[39mself\u001b[39m, route, url_args\u001b[39m=\u001b[39m\u001b[39mNone\u001b[39;00m, params\u001b[39m=\u001b[39m\u001b[39mNone\u001b[39;00m, is_json\u001b[39m=\u001b[39m\u001b[39mFalse\u001b[39;00m, query_params\u001b[39m=\u001b[39m\u001b[39mNone\u001b[39;00m):\n\u001b[0;32m    854\u001b[0m \u001b[39m    \u001b[39m\u001b[39m\"\"\"Alias for sending a POST request.\"\"\"\u001b[39;00m\n\u001b[1;32m--> 855\u001b[0m     \u001b[39mreturn\u001b[39;00m \u001b[39mself\u001b[39m\u001b[39m.\u001b[39m_request(route, \u001b[39m\"\u001b[39m\u001b[39mPOST\u001b[39m\u001b[39m\"\u001b[39m, url_args\u001b[39m=\u001b[39murl_args, params\u001b[39m=\u001b[39mparams, is_json\u001b[39m=\u001b[39mis_json, query_params\u001b[39m=\u001b[39mquery_params)\n",
      "File \u001b[1;32mc:\\Users\\murar\\AppData\\Local\\anaconda3\\Lib\\site-packages\\kiteconnect\\connect.py:927\u001b[0m, in \u001b[0;36mKiteConnect._request\u001b[1;34m(self, route, method, url_args, params, is_json, query_params)\u001b[0m\n\u001b[0;32m    925\u001b[0m         \u001b[39m# native Kite errors\u001b[39;00m\n\u001b[0;32m    926\u001b[0m         exp \u001b[39m=\u001b[39m \u001b[39mgetattr\u001b[39m(ex, data\u001b[39m.\u001b[39mget(\u001b[39m\"\u001b[39m\u001b[39merror_type\u001b[39m\u001b[39m\"\u001b[39m), ex\u001b[39m.\u001b[39mGeneralException)\n\u001b[1;32m--> 927\u001b[0m         \u001b[39mraise\u001b[39;00m exp(data[\u001b[39m\"\u001b[39m\u001b[39mmessage\u001b[39m\u001b[39m\"\u001b[39m], code\u001b[39m=\u001b[39mr\u001b[39m.\u001b[39mstatus_code)\n\u001b[0;32m    929\u001b[0m     \u001b[39mreturn\u001b[39;00m data[\u001b[39m\"\u001b[39m\u001b[39mdata\u001b[39m\u001b[39m\"\u001b[39m]\n\u001b[0;32m    930\u001b[0m \u001b[39melif\u001b[39;00m \u001b[39m\"\u001b[39m\u001b[39mcsv\u001b[39m\u001b[39m\"\u001b[39m \u001b[39min\u001b[39;00m r\u001b[39m.\u001b[39mheaders[\u001b[39m\"\u001b[39m\u001b[39mcontent-type\u001b[39m\u001b[39m\"\u001b[39m]:\n",
      "\u001b[1;31mInputException\u001b[0m: `request_token` should be minimum 10 characters in length."
     ]
    }
   ],
   "source": [
    "print('Starting Short Straddle Bot')\n",
    "ins = {}\n",
    "for index, row in login.iterrows():\n",
    "    api_key = row['apikey']\n",
    "    api_secret = row['apisecret']\n",
    "    symbols = eval(row['Stock'])\n",
    "    kite = KiteConnect(api_key=api_key)\n",
    "    print('Please Login and Access your Request Token for',row['name'],kite.login_url())\n",
    "    request_token = input('Please Enter the Request Token :')\n",
    "    data = kite.generate_session(request_token,api_secret=api_secret)\n",
    "    access_token = data[\"access_token\"]\n",
    "    row['access_token']=access_token\n",
    "    ins[row['name']]=kite\n",
    "\n",
    "for index, row in login.iterrows():\n",
    "    kite = ins[row['name']]\n",
    "    instruments = kite.instruments()\n",
    "    while True:\n",
    "        if datetime.now().time() != datetime.strptime('05:30', '%H:%M').time():\n",
    "            existing_positions = kite.positions()['net']\n",
    "\n",
    "            # Create and start a process for each symbol\n",
    "            for key,val in symbols.items():\n",
    "                short_straddle(key[4:],val,kite,instruments,existing_positions)\n",
    "            \n",
    "            time.sleep(5)\n",
    "        else:\n",
    "            print('! Session Ended Pls Restart')"
   ]
  },
  {
   "cell_type": "code",
   "execution_count": null,
   "metadata": {},
   "outputs": [],
   "source": []
  }
 ],
 "metadata": {
  "kernelspec": {
   "display_name": "Python 3",
   "language": "python",
   "name": "python3"
  },
  "language_info": {
   "codemirror_mode": {
    "name": "ipython",
    "version": 3
   },
   "file_extension": ".py",
   "mimetype": "text/x-python",
   "name": "python",
   "nbconvert_exporter": "python",
   "pygments_lexer": "ipython3",
   "version": "3.11.3"
  },
  "orig_nbformat": 4
 },
 "nbformat": 4,
 "nbformat_minor": 2
}
